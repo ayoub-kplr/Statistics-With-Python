{
  "cells": [
    {
      "attachments": {},
      "cell_type": "markdown",
      "metadata": {
        "id": "07JQbgnhw32O"
      },
      "source": [
        "# Sampling"
      ]
    },
    {
      "cell_type": "markdown",
      "metadata": {
        "id": "_YRSzIeQw32V"
      },
      "source": [
        "In the chapter and lecture we discussed some basic issues in sampling.  In this notebook you will explore some handy python methods for sampling and consider the implications of sampling on what you understand about some target group (i.e., what you can generalize)."
      ]
    },
    {
      "cell_type": "markdown",
      "metadata": {
        "id": "fIKi3BSRw32W"
      },
      "source": [
        "## Importing and using existing functions"
      ]
    },
    {
      "cell_type": "code",
      "execution_count": null,
      "metadata": {
        "id": "7Uk16u1Vw32Y"
      },
      "outputs": [],
      "source": [
        "import numpy as np\n",
        "import numpy.random as npr\n",
        "import pandas as pd\n",
        "import seaborn as sns"
      ]
    },
    {
      "cell_type": "markdown",
      "metadata": {
        "id": "kYvDHwA8w32b"
      },
      "source": [
        "## Problem 0: Seeding a random number generator"
      ]
    },
    {
      "cell_type": "markdown",
      "metadata": {
        "id": "ktVnF4M8w32q"
      },
      "source": [
        "When we use the computer to play with random numbers (or random samples), we aren't actually using random numbers.  Generally speaking your computer is a deterministic machine so it is unable to make truely random numbers.  Intead the numbers your computer gives you are known as pseudo-random because they have many of the properties we want from random numbers but are not exactly and entirely random.\n",
        "\n",
        "Anytime we use random numbers in a script, simulation, or analysis it is important to \"seed\" the random number generator.  This initialized the random number generator function to a particularly \"state\" and this makes the number in the script random but repeatable.  \n",
        "\n",
        "Let's experiment with this.  First try running the following cell and seeing what the output is.  Try running it multiple times and seeing how the numbers change."
      ]
    },
    {
      "cell_type": "code",
      "execution_count": null,
      "metadata": {
        "id": "pFMb2HXcw32s",
        "outputId": "80bf4e28-2527-4788-d22b-a389e2240d7d"
      },
      "outputs": [
        {
          "data": {
            "text/plain": [
              "array([4, 1, 3, 6, 5, 3, 9, 6, 9, 1])"
            ]
          },
          "execution_count": 20,
          "metadata": {},
          "output_type": "execute_result"
        }
      ],
      "source": [
        "npr.randint(0,10,10)"
      ]
    },
    {
      "cell_type": "markdown",
      "metadata": {
        "id": "MO0kLEAhw32u"
      },
      "source": [
        "Now run this cell:"
      ]
    },
    {
      "cell_type": "code",
      "execution_count": null,
      "metadata": {
        "id": "YW6NsP_2w32v",
        "outputId": "a61d094a-47dd-40c0-d0c5-b634ee164e57"
      },
      "outputs": [
        {
          "name": "stdout",
          "output_type": "stream",
          "text": [
            "[9 4 0 1 9 0 1 8 9 0]\n",
            "[8 6 4 3 0 4 6 8 1 8]\n"
          ]
        }
      ],
      "source": [
        "npr.seed(10)\n",
        "print(npr.randint(0,10,10))\n",
        "print(npr.randint(0,10,10))"
      ]
    },
    {
      "cell_type": "markdown",
      "metadata": {
        "id": "-jfRExJlw32w"
      },
      "source": [
        "Again, try repeating the cell execution over and over.  What do you observe?\n",
        "\n",
        "Try restarting the kernel and run the cell again.  What do you notice?  Compare to other people in your group.  Also change the argument to `npr.seed()` and see what happens."
      ]
    },
    {
      "cell_type": "markdown",
      "metadata": {
        "id": "rWcWK477w32x"
      },
      "source": [
        "#### Answer 0 here:"
      ]
    },
    {
      "cell_type": "code",
      "execution_count": null,
      "metadata": {
        "id": "XUfTDzd7w32y"
      },
      "outputs": [],
      "source": [
        "## Enter solution here"
      ]
    },
    {
      "cell_type": "markdown",
      "metadata": {
        "id": "IHS9vYcdw32y"
      },
      "source": [
        "Bottom line:  Always seed the random number generator at the start of any script that uses random numbers so your code is more repeatable."
      ]
    },
    {
      "cell_type": "markdown",
      "metadata": {
        "id": "lSFYv-n_w32z"
      },
      "source": [
        "## Problem 1: Sampling from a finite population\n",
        "\n",
        "Imagine I create a list with 100 randomly determined values as below.  Using the web, research the the numpy random `choice()` function.  Use it generate a random sample of size 10 from this data.  Do it twice one with replacement and once without replacement."
      ]
    },
    {
      "cell_type": "code",
      "execution_count": null,
      "metadata": {
        "id": "M8LrSsQZw320"
      },
      "outputs": [],
      "source": [
        "my_data = np.array([75, 25, 59, 63, 48, 29,  3, 17, 68, 39,  9, 62, 61, 52, 64, 45, 90,\n",
        "       87,  0, 42, 26, 52, 22, 25, 20, 22, 81, 25, 48, 79, 37,  6, 33, 30,\n",
        "       81,  5, 37, 85, 65,  0, 27, 40, 96, 67, 77, 29, 32, 25,  4, 53, 46,\n",
        "        7, 51, 65, 46, 91, 60, 52, 93, 26,  2, 42, 18, 19, 97, 45, 78, 33,\n",
        "       25, 30, 97, 96, 99, 32, 86, 43, 81, 83, 51, 81, 36, 29,  2, 33, 95,\n",
        "       39, 79,  1, 80, 17, 50, 38,  1, 98, 30, 89, 93, 27, 43, 30])"
      ]
    },
    {
      "cell_type": "markdown",
      "metadata": {
        "id": "tpt-M7AWw321"
      },
      "source": [
        "#### Answer 1 here:"
      ]
    },
    {
      "cell_type": "code",
      "execution_count": null,
      "metadata": {
        "id": "2ghGi0q7w321"
      },
      "outputs": [],
      "source": [
        "## Enter solution here"
      ]
    },
    {
      "cell_type": "markdown",
      "metadata": {
        "id": "yr2gwAzmw322"
      },
      "source": [
        "## Problem 2: Sampling from a data frame"
      ]
    },
    {
      "cell_type": "markdown",
      "metadata": {
        "id": "Zcy9EYCEw322"
      },
      "source": [
        "Sometimes what we are interested in is sampling from a pandas dataframe rather than a list or numpy array.  Why might we want to sample from a dataset?  One is to randomly select subset of test-training if we are doing machine learning projects on the data (we'll talk about this later).  Another is if there are two many records to analyze so it makes sense to randomly select a subset and analyze those.  Another is to repeatedly sample over and over again from a dataset to do a statistical method called \"boostrapping\" (https://en.wikipedia.org/wiki/Bootstrapping_(statistics))"
      ]
    },
    {
      "cell_type": "markdown",
      "metadata": {
        "id": "WPO74efOw323"
      },
      "source": [
        "This code loads an example pandas dataset of different penguins.  "
      ]
    },
    {
      "cell_type": "code",
      "execution_count": null,
      "metadata": {
        "id": "hpn29npWw323"
      },
      "outputs": [],
      "source": [
        "penguins_df = sns.load_dataset('penguins')"
      ]
    },
    {
      "cell_type": "code",
      "execution_count": null,
      "metadata": {
        "id": "kfABX1yWw324",
        "outputId": "0dba9ef4-0831-4fbc-cc76-3c98766a21fd"
      },
      "outputs": [
        {
          "data": {
            "text/html": [
              "<div>\n",
              "<style scoped>\n",
              "    .dataframe tbody tr th:only-of-type {\n",
              "        vertical-align: middle;\n",
              "    }\n",
              "\n",
              "    .dataframe tbody tr th {\n",
              "        vertical-align: top;\n",
              "    }\n",
              "\n",
              "    .dataframe thead th {\n",
              "        text-align: right;\n",
              "    }\n",
              "</style>\n",
              "<table border=\"1\" class=\"dataframe\">\n",
              "  <thead>\n",
              "    <tr style=\"text-align: right;\">\n",
              "      <th></th>\n",
              "      <th>species</th>\n",
              "      <th>island</th>\n",
              "      <th>bill_length_mm</th>\n",
              "      <th>bill_depth_mm</th>\n",
              "      <th>flipper_length_mm</th>\n",
              "      <th>body_mass_g</th>\n",
              "      <th>sex</th>\n",
              "    </tr>\n",
              "  </thead>\n",
              "  <tbody>\n",
              "    <tr>\n",
              "      <th>0</th>\n",
              "      <td>Adelie</td>\n",
              "      <td>Torgersen</td>\n",
              "      <td>39.1</td>\n",
              "      <td>18.7</td>\n",
              "      <td>181.0</td>\n",
              "      <td>3750.0</td>\n",
              "      <td>Male</td>\n",
              "    </tr>\n",
              "    <tr>\n",
              "      <th>1</th>\n",
              "      <td>Adelie</td>\n",
              "      <td>Torgersen</td>\n",
              "      <td>39.5</td>\n",
              "      <td>17.4</td>\n",
              "      <td>186.0</td>\n",
              "      <td>3800.0</td>\n",
              "      <td>Female</td>\n",
              "    </tr>\n",
              "    <tr>\n",
              "      <th>2</th>\n",
              "      <td>Adelie</td>\n",
              "      <td>Torgersen</td>\n",
              "      <td>40.3</td>\n",
              "      <td>18.0</td>\n",
              "      <td>195.0</td>\n",
              "      <td>3250.0</td>\n",
              "      <td>Female</td>\n",
              "    </tr>\n",
              "    <tr>\n",
              "      <th>3</th>\n",
              "      <td>Adelie</td>\n",
              "      <td>Torgersen</td>\n",
              "      <td>NaN</td>\n",
              "      <td>NaN</td>\n",
              "      <td>NaN</td>\n",
              "      <td>NaN</td>\n",
              "      <td>NaN</td>\n",
              "    </tr>\n",
              "    <tr>\n",
              "      <th>4</th>\n",
              "      <td>Adelie</td>\n",
              "      <td>Torgersen</td>\n",
              "      <td>36.7</td>\n",
              "      <td>19.3</td>\n",
              "      <td>193.0</td>\n",
              "      <td>3450.0</td>\n",
              "      <td>Female</td>\n",
              "    </tr>\n",
              "  </tbody>\n",
              "</table>\n",
              "</div>"
            ],
            "text/plain": [
              "  species     island  bill_length_mm  bill_depth_mm  flipper_length_mm  \\\n",
              "0  Adelie  Torgersen            39.1           18.7              181.0   \n",
              "1  Adelie  Torgersen            39.5           17.4              186.0   \n",
              "2  Adelie  Torgersen            40.3           18.0              195.0   \n",
              "3  Adelie  Torgersen             NaN            NaN                NaN   \n",
              "4  Adelie  Torgersen            36.7           19.3              193.0   \n",
              "\n",
              "   body_mass_g     sex  \n",
              "0       3750.0    Male  \n",
              "1       3800.0  Female  \n",
              "2       3250.0  Female  \n",
              "3          NaN     NaN  \n",
              "4       3450.0  Female  "
            ]
          },
          "execution_count": 26,
          "metadata": {},
          "output_type": "execute_result"
        }
      ],
      "source": [
        "penguins_df.head()"
      ]
    },
    {
      "cell_type": "code",
      "execution_count": null,
      "metadata": {
        "id": "PfKw4dqow326",
        "outputId": "f9ca7edc-6aeb-42c0-d040-7ee3d4f26db5"
      },
      "outputs": [
        {
          "name": "stdout",
          "output_type": "stream",
          "text": [
            "<class 'pandas.core.frame.DataFrame'>\n",
            "RangeIndex: 344 entries, 0 to 343\n",
            "Data columns (total 7 columns):\n",
            " #   Column             Non-Null Count  Dtype  \n",
            "---  ------             --------------  -----  \n",
            " 0   species            344 non-null    object \n",
            " 1   island             344 non-null    object \n",
            " 2   bill_length_mm     342 non-null    float64\n",
            " 3   bill_depth_mm      342 non-null    float64\n",
            " 4   flipper_length_mm  342 non-null    float64\n",
            " 5   body_mass_g        342 non-null    float64\n",
            " 6   sex                333 non-null    object \n",
            "dtypes: float64(4), object(3)\n",
            "memory usage: 18.9+ KB\n"
          ]
        }
      ],
      "source": [
        "penguins_df.info()"
      ]
    },
    {
      "cell_type": "markdown",
      "metadata": {
        "id": "zmUFisOHw327"
      },
      "source": [
        "Research the pandas `sample()` method and randomly sample 20 penguins from the dataframe."
      ]
    },
    {
      "cell_type": "markdown",
      "metadata": {
        "id": "k0mNm0NDw328"
      },
      "source": [
        "#### Answer 2a here:"
      ]
    },
    {
      "cell_type": "code",
      "execution_count": null,
      "metadata": {
        "id": "lGF_bInDw329"
      },
      "outputs": [],
      "source": [
        "## Enter solution here"
      ]
    },
    {
      "cell_type": "markdown",
      "metadata": {
        "id": "PFwbrBQQw329"
      },
      "source": [
        "Now, for part b of this question, in a for loop, 100 times create a random sample of the dataframe and compute the mean body mass of the penguins in your sample.  Append all these values to a list and then plot a histogram of these values.  Compare it to the mean of the dataset containing all the penguins."
      ]
    },
    {
      "cell_type": "markdown",
      "metadata": {
        "id": "CXyYcJA7w32-"
      },
      "source": [
        "#### Answer 2b here:"
      ]
    },
    {
      "cell_type": "code",
      "execution_count": null,
      "metadata": {
        "id": "HR_BiO6Zw32_"
      },
      "outputs": [],
      "source": [
        "## Enter solution here"
      ]
    },
    {
      "cell_type": "markdown",
      "metadata": {
        "id": "8hS_0aCUw32_"
      },
      "source": [
        "## Problem 3: Stratified sampling"
      ]
    },
    {
      "cell_type": "markdown",
      "metadata": {
        "id": "6sjKTZFhw33A"
      },
      "source": [
        "One problem with the simple random samples we made of the penguins is that in each sample we might exclude some important groups of the data.  For example, if we only sampled 10 penguins perhaps all of them are male.  If we wanted to be more even handed name make sure our samples were _representative_ of the sex differences then we might want to sample from the subpopulations.  This is called \"stratified sampling\".\n",
        "\n",
        "Please read this example webpage: https://www.statology.org/stratified-sampling-pandas/\n",
        "on stratified sampling and adapt the code to generate a random sample of 10 penguins that is stratified so that there are 5 male and 5 female examples in the sample"
      ]
    },
    {
      "cell_type": "markdown",
      "metadata": {
        "id": "ZNn91uo9w33A"
      },
      "source": [
        "#### Problem 3: Answer here"
      ]
    },
    {
      "cell_type": "code",
      "execution_count": null,
      "metadata": {
        "id": "ktrbeT6nw33B"
      },
      "outputs": [],
      "source": [
        "## Enter solution here"
      ]
    },
    {
      "cell_type": "code",
      "execution_count": null,
      "metadata": {
        "id": "OIZc-ly2w33C"
      },
      "outputs": [],
      "source": []
    }
  ],
  "metadata": {
    "colab": {
      "provenance": []
    },
    "kernelspec": {
      "display_name": "base",
      "language": "python",
      "name": "python3"
    },
    "language_info": {
      "codemirror_mode": {
        "name": "ipython",
        "version": 3
      },
      "file_extension": ".py",
      "mimetype": "text/x-python",
      "name": "python",
      "nbconvert_exporter": "python",
      "pygments_lexer": "ipython3",
      "version": "3.9.12 (main, Apr  4 2022, 05:22:27) [MSC v.1916 64 bit (AMD64)]"
    },
    "vscode": {
      "interpreter": {
        "hash": "d8e65be2d5af5c08928ecb773b6dc450231fb3ffc1135c3e29100eb7fa86bbe1"
      }
    }
  },
  "nbformat": 4,
  "nbformat_minor": 0
}
