{
  "nbformat": 4,
  "nbformat_minor": 0,
  "metadata": {
    "colab": {
      "provenance": [],
      "authorship_tag": "ABX9TyMcepdAT7alHvl1WsG6jvYM",
      "include_colab_link": true
    },
    "kernelspec": {
      "name": "python3",
      "display_name": "Python 3"
    },
    "language_info": {
      "name": "python"
    }
  },
  "cells": [
    {
      "cell_type": "markdown",
      "metadata": {
        "id": "view-in-github",
        "colab_type": "text"
      },
      "source": [
        "<a href=\"https://colab.research.google.com/github/zinebzannouti/Statistics-With-Python/blob/main/7_Regression_Lin%C3%A9aire.ipynb\" target=\"_parent\"><img src=\"https://colab.research.google.com/assets/colab-badge.svg\" alt=\"Open In Colab\"/></a>"
      ]
    },
    {
      "cell_type": "markdown",
      "source": [
        "# **linear_regression**"
      ],
      "metadata": {
        "id": "WM81z3MHj3Ib"
      }
    },
    {
      "cell_type": "code",
      "execution_count": 2,
      "metadata": {
        "id": "qq7vRqVGj1OI"
      },
      "outputs": [],
      "source": [
        "import matplotlib.pyplot as plt\n",
        "import scipy.stats as stats"
      ]
    },
    {
      "cell_type": "code",
      "source": [
        "# define the x and y arrays\n",
        "# data with medium fit\n",
        "age_x = [4,6,7,6,1,16,1,8,3,10,11,8,5]\n",
        "capacity_y = [98,85,86,89,112,85,101,84,93,79,76,82,81]\n",
        "\n",
        "'''\n",
        "#data with best fit\n",
        "age_x = [4,6,7,6,1,16,1,8,3,10,11,8,5]\n",
        "capacity_y = [14,35,48,36,1,254,2,63,9,99,120,62,25]\n",
        "'''\n",
        "\n",
        "'''\n",
        "#data with worst fit\n",
        "age_x = [4,6,7,6,1,16,1,8,3,10,11,8,5]\n",
        "capacity_y = [63,9,99,62,25,14,35,48,36,1,254,2,63]\n",
        "'''"
      ],
      "metadata": {
        "colab": {
          "base_uri": "https://localhost:8080/",
          "height": 35
        },
        "id": "-lA43ZVOj832",
        "outputId": "13c67caa-4dbe-42f5-fea5-1cf954e450cd"
      },
      "execution_count": 3,
      "outputs": [
        {
          "output_type": "execute_result",
          "data": {
            "text/plain": [
              "'\\n#data with worst fit\\nage_x = [4,6,7,6,1,16,1,8,3,10,11,8,5]\\ncapacity_y = [63,9,99,62,25,14,35,48,36,1,254,2,63]\\n'"
            ],
            "application/vnd.google.colaboratory.intrinsic+json": {
              "type": "string"
            }
          },
          "metadata": {},
          "execution_count": 3
        }
      ]
    },
    {
      "cell_type": "code",
      "source": [
        "#calculating linear regression using linregress() function\n",
        "slope, intercept, r, p , std_error = stats.linregress(age_x,capacity_y)"
      ],
      "metadata": {
        "id": "90X1GdzUj-5l"
      },
      "execution_count": 4,
      "outputs": []
    },
    {
      "cell_type": "code",
      "source": [
        "def find_new_y(x):\n",
        "    #find the value of y = mx+b from the given x value\n",
        "    y = slope*x + intercept\n",
        "    return y"
      ],
      "metadata": {
        "id": "jz0wcdyxkB8q"
      },
      "execution_count": 5,
      "outputs": []
    },
    {
      "cell_type": "code",
      "source": [
        "# for every value of x in the array, find the new y value and save as a list\n",
        "new_y_values = list(map(find_new_y, age_x))"
      ],
      "metadata": {
        "id": "8mgtHvURkELc"
      },
      "execution_count": 6,
      "outputs": []
    },
    {
      "cell_type": "code",
      "source": [
        "#plotting the original data as scatter plot\n",
        "#plotting the line of regression\n",
        "#draw the scatter plot\n",
        "plt.scatter(age_x, capacity_y, label='original data')\n",
        "plt.plot(age_x, new_y_values, 'r', label='fitted line')\n",
        "plt.legend()\n",
        "plt.show()"
      ],
      "metadata": {
        "colab": {
          "base_uri": "https://localhost:8080/",
          "height": 265
        },
        "id": "0tozoGackJaZ",
        "outputId": "099b608e-1b23-4f49-a143-6bb19155c7ad"
      },
      "execution_count": 7,
      "outputs": [
        {
          "output_type": "display_data",
          "data": {
            "text/plain": [
              "<Figure size 432x288 with 1 Axes>"
            ],
            "image/png": "[encoded data removed]"
          },
          "metadata": {
            "needs_background": "light"
          }
        }
      ]
    },
    {
      "cell_type": "code",
      "source": [
        "print(\"r value = \"+str(r))"
      ],
      "metadata": {
        "colab": {
          "base_uri": "https://localhost:8080/"
        },
        "id": "TGU4AmhxkLL3",
        "outputId": "2b471ba3-3cd9-4e91-8848-e3909e573638"
      },
      "execution_count": 8,
      "outputs": [
        {
          "output_type": "stream",
          "name": "stdout",
          "text": [
            "r value = -0.7247302493906514\n"
          ]
        }
      ]
    },
    {
      "cell_type": "code",
      "source": [
        "#predict the production capacity for a 15 year old machine\n",
        "predicted_capacity_y = find_new_y(15)\n",
        "print(\"predicted capacity is \"+str(predicted_capacity_y))"
      ],
      "metadata": {
        "colab": {
          "base_uri": "https://localhost:8080/"
        },
        "id": "Yo9YeQoGkM96",
        "outputId": "be2f555e-bef8-4582-8b7a-aaf9569d5fed"
      },
      "execution_count": 9,
      "outputs": [
        {
          "output_type": "stream",
          "name": "stdout",
          "text": [
            "predicted capacity is 73.88852097130243\n"
          ]
        }
      ]
    }
  ]
}